{
 "cells": [
  {
   "cell_type": "markdown",
   "metadata": {},
   "source": [
    "# Python implementation of SHA256\n",
    "Followed by the guidelines of https://nvlpubs.nist.gov/nistpubs/FIPS/NIST.FIPS.180-4.pdf\n",
    "\n",
    "The style of the implementation is inspired by https://github.com/Eylrid/pysha256/blob/master/pysha256.py\n",
    "\n",
    "SHA-224 and SHA-256 use the same sequence of sixty-four constant 32-bit words.  These words represent the first thirty-two bits of the fractional parts of the cube roots of the first sixty-four prime numbers. In hex, these constant words are (from left to right)"
   ]
  },
  {
   "cell_type": "code",
   "execution_count": 1,
   "metadata": {},
   "outputs": [],
   "source": [
    "K = [\n",
    "    0x428a2f98, 0x71374491, 0xb5c0fbcf, 0xe9b5dba5, 0x3956c25b, 0x59f111f1, 0x923f82a4, 0xab1c5ed5,\n",
    "    0xd807aa98, 0x12835b01, 0x243185be, 0x550c7dc3, 0x72be5d74, 0x80deb1fe, 0x9bdc06a7, 0xc19bf174,\n",
    "    0xe49b69c1, 0xefbe4786, 0x0fc19dc6, 0x240ca1cc, 0x2de92c6f, 0x4a7484aa, 0x5cb0a9dc, 0x76f988da,\n",
    "    0x983e5152, 0xa831c66d, 0xb00327c8, 0xbf597fc7, 0xc6e00bf3, 0xd5a79147, 0x06ca6351, 0x14292967,\n",
    "    0x27b70a85, 0x2e1b2138, 0x4d2c6dfc, 0x53380d13, 0x650a7354, 0x766a0abb, 0x81c2c92e, 0x92722c85,\n",
    "    0xa2bfe8a1, 0xa81a664b, 0xc24b8b70, 0xc76c51a3, 0xd192e819, 0xd6990624, 0xf40e3585, 0x106aa070,\n",
    "    0x19a4c116, 0x1e376c08, 0x2748774c, 0x34b0bcb5, 0x391c0cb3, 0x4ed8aa4a, 0x5b9cca4f, 0x682e6ff3,\n",
    "    0x748f82ee, 0x78a5636f, 0x84c87814, 0x8cc70208, 0x90befffa, 0xa4506ceb, 0xbef9a3f7, 0xc67178f2,\n",
    "]"
   ]
  },
  {
   "cell_type": "markdown",
   "metadata": {},
   "source": [
    "## Preprocessing\n",
    "Preprocessing  consists  of  three  steps:  padding  the  message, M,  parsing  the  message into message blocks, and setting the initial hash value, H(0)\n",
    "\n",
    "### Padding the Message\n",
    "The  purpose  of  this  padding  is  to  ensure  that  the  padded  message  is  a  multiple  of  512. Padding can be inserted before hash computation begins on a message, or at any  other time during the hash computation prior to processing the block(s) that will contain the padding. \n",
    "\n",
    "Suppose that the length of the message M is l bits. Append the bit \"1\" to the end of the message, followed by k zero bits, where k is the smallest, non-negative solution to the equation $l+1+k=448mod512$. Then append the 64-bit block that is equal to the number l\n",
    "expressed using a binary representation. For example, the (8-bit ASCII) message \"abc\" has length 8x3=24, so the message is padded with a one bit, then 448-(24+1)=423 zero bits, and then the message length, to become the 512-bit padded message\n",
    "![sha256 padding](figures/sha256padding.png)"
   ]
  },
  {
   "cell_type": "code",
   "execution_count": 2,
   "metadata": {},
   "outputs": [
    {
     "data": {
      "text/plain": [
       "bytearray(b'abc')"
      ]
     },
     "execution_count": 2,
     "metadata": {},
     "output_type": "execute_result"
    }
   ],
   "source": [
    "message = \"abc\"\n",
    "bytearray(message, 'ascii')"
   ]
  },
  {
   "cell_type": "code",
   "execution_count": 3,
   "metadata": {},
   "outputs": [
    {
     "data": {
      "text/plain": [
       "24"
      ]
     },
     "execution_count": 3,
     "metadata": {},
     "output_type": "execute_result"
    }
   ],
   "source": [
    "bitlen = len(message)*8\n",
    "bitlen"
   ]
  },
  {
   "cell_type": "code",
   "execution_count": 4,
   "metadata": {},
   "outputs": [
    {
     "name": "stdout",
     "output_type": "stream",
     "text": [
      "Pad the message: abc with \"1\" then 423 zero bits\n"
     ]
    },
    {
     "data": {
      "text/plain": [
       "'1000000000000000000000000000000000000000000000000000000000000000000000000000000000000000000000000000000000000000000000000000000000000000000000000000000000000000000000000000000000000000000000000000000000000000000000000000000000000000000000000000000000000000000000000000000000000000000000000000000000000000000000000000000000000000000000000000000000000000000000000000000000000000000000000000000000000000000000000000000000000000'"
      ]
     },
     "execution_count": 4,
     "metadata": {},
     "output_type": "execute_result"
    }
   ],
   "source": [
    "def pad_len(bitlen):\n",
    "    \"\"\"Calculates number of bits needed for message padding\n",
    "    Args:\n",
    "        bitlen: number of bits in the message\n",
    "        \n",
    "    Returns:\n",
    "        bitstring to pad after the message. \"1\" followed by\n",
    "        k zero bits where l+1+k=448mod512. l=message length.\n",
    "    \"\"\"\n",
    "    length = 448-(bitlen%512)\n",
    "    if length < 0:\n",
    "        length += 512\n",
    "    return '1'.ljust(length,'0')\n",
    "    \n",
    "padding = pad_len(bitlen)\n",
    "print(f'Pad the message: {message} with \"1\" then {len(padding)-1} zero bits')\n",
    "padding"
   ]
  },
  {
   "cell_type": "code",
   "execution_count": 5,
   "metadata": {},
   "outputs": [
    {
     "name": "stdout",
     "output_type": "stream",
     "text": [
      "Add 64-bit block in the end:\n",
      "0000000000000000000000000000000000000000000000000000000000011000\n"
     ]
    }
   ],
   "source": [
    "def block_bits(bitlen):\n",
    "    \"\"\"Calculates 64-bit block to be added at the end of message\n",
    "    Args:\n",
    "        bitlen: number of bits in the original message (before padding)\n",
    "        \n",
    "    Returns:\n",
    "        (String) 64-bit block which is a binary representation of the\n",
    "        message length\n",
    "    \"\"\"\n",
    "    bits = bin(bitlen)[2:].rjust(64,'0')\n",
    "    assert len(bits) == 64\n",
    "    return bits\n",
    "\n",
    "len_bits = block_bits(bitlen)\n",
    "print(f'Add 64-bit block in the end:\\n{len_bits}')"
   ]
  },
  {
   "cell_type": "code",
   "execution_count": 6,
   "metadata": {},
   "outputs": [
    {
     "name": "stdout",
     "output_type": "stream",
     "text": [
      "a: 01100001\n",
      "b: 01100010\n",
      "c: 01100011\n"
     ]
    }
   ],
   "source": [
    "def char_to_bitstring(char):\n",
    "    \"\"\"Converts an ASCII character to 8-bit string\"\"\"\n",
    "    return bin(ord(char))[2:].rjust(8,\"0\")\n",
    "\n",
    "print(f'a: {char_to_bitstring(\"a\")}')\n",
    "print(f'b: {char_to_bitstring(\"b\")}')\n",
    "print(f'c: {char_to_bitstring(\"c\")}')"
   ]
  },
  {
   "cell_type": "code",
   "execution_count": 7,
   "metadata": {},
   "outputs": [
    {
     "data": {
      "text/plain": [
       "'01100001011000100110001110000000000000000000000000000000000000000000000000000000000000000000000000000000000000000000000000000000000000000000000000000000000000000000000000000000000000000000000000000000000000000000000000000000000000000000000000000000000000000000000000000000000000000000000000000000000000000000000000000000000000000000000000000000000000000000000000000000000000000000000000000000000000000000000000000000000000000000000000000000000000000000000000000000000000000000000000000000000000000000000000011000'"
      ]
     },
     "execution_count": 7,
     "metadata": {},
     "output_type": "execute_result"
    }
   ],
   "source": [
    "def pad_message(message):\n",
    "    \"\"\"Adds padding to an ASCII message\n",
    "    Args:\n",
    "        message: original message in ASCII characters\n",
    "        \n",
    "    Returns:\n",
    "        bitstring which is a multiple of 512. The bitstring\n",
    "        is padded based SHA-256 algorithm.\n",
    "    \n",
    "    \"\"\"\n",
    "    bitstring = ''.join([char_to_bitstring(c) for c in message])\n",
    "    bitlen = len(bitstring)\n",
    "    padding = pad_len(bitlen)\n",
    "    len_bits = block_bits(bitlen)\n",
    "    # Add padding and 64-bit message block\n",
    "    bitstring = bitstring + padding + len_bits\n",
    "    assert len(bitstring)%512==0\n",
    "    return bitstring\n",
    "    \n",
    "bitstring = pad_message(message)\n",
    "bitstring"
   ]
  },
  {
   "cell_type": "markdown",
   "metadata": {},
   "source": [
    "### Parsing the message\n",
    "The message and its padding must be parsed into N m-bit blocks\n",
    "\n",
    "For SHA-256, the message and its padding are parsed into N 512-bit blocks, $M^{(1)},M^{(2)},..,M^{(N)}$. Since the 512 bits of the input block may be expressed as sixteen 32-bit words, the first 32 bits of message block i are denoted $M_{0}^{(i)}$, the next 32 bits are $M_{1}^{(i)}$, and so on up to $M_{15}^{(i)}$"
   ]
  },
  {
   "cell_type": "code",
   "execution_count": 8,
   "metadata": {},
   "outputs": [
    {
     "data": {
      "text/plain": [
       "['01100001011000100110001110000000',\n",
       " '00000000000000000000000000000000',\n",
       " '00000000000000000000000000000000',\n",
       " '00000000000000000000000000000000',\n",
       " '00000000000000000000000000000000',\n",
       " '00000000000000000000000000000000',\n",
       " '00000000000000000000000000000000',\n",
       " '00000000000000000000000000000000',\n",
       " '00000000000000000000000000000000',\n",
       " '00000000000000000000000000000000',\n",
       " '00000000000000000000000000000000',\n",
       " '00000000000000000000000000000000',\n",
       " '00000000000000000000000000000000',\n",
       " '00000000000000000000000000000000',\n",
       " '00000000000000000000000000000000',\n",
       " '00000000000000000000000000011000']"
      ]
     },
     "execution_count": 8,
     "metadata": {},
     "output_type": "execute_result"
    }
   ],
   "source": [
    "def parse_block(bitstring):\n",
    "    \"\"\"Parse message into 16 32-bit blocks\n",
    "    Args:\n",
    "        bitstring: bitstring of length 512\n",
    "    \n",
    "    Returns:\n",
    "        list of 16 32-bit bitstrings\n",
    "    \"\"\"\n",
    "    M = [bitstring[i:i + 32] for i in range(0, 512, 32)]\n",
    "    assert len(M) == 16\n",
    "    return M\n",
    "\n",
    "M = parse_block(bitstring)\n",
    "M"
   ]
  },
  {
   "cell_type": "markdown",
   "metadata": {},
   "source": [
    "### Setting initial Hash Value \n",
    "Before hash computation begins, the initial hash value, $H^{(0)}$ must be set. The size and number of words in $H^{(0)}$ depends on the message digest size\n",
    "\n",
    "For SHA-256, the initial hash value $H^{(0)}$ shall consist of the following eight 32-bit words in hex:\n",
    "* $H_{0}^{(0)}$ = 6a09e667\n",
    "* $H_{1}^{(0)}$ = bb67ae85\n",
    "* $H_{2}^{(0)}$ = 3c6ef372\n",
    "* $H_{3}^{(0)}$ = a54ff53a\n",
    "* $H_{4}^{(0)}$ = 510e527f\n",
    "* $H_{5}^{(0)}$ = 9b05688c\n",
    "* $H_{6}^{(0)}$ = 1f83d9ab\n",
    "* $H_{7}^{(0)}$ = 5be0cd19\n",
    "\n",
    "These words were obtained by taking the first thirty-two bits of the fractional parts of the square roots of the first eight prime numbers"
   ]
  },
  {
   "cell_type": "code",
   "execution_count": 9,
   "metadata": {},
   "outputs": [],
   "source": [
    "h0 = 0x6a09e667\n",
    "h1 = 0xbb67ae85\n",
    "h2 = 0x3c6ef372\n",
    "h3 = 0xa54ff53a\n",
    "h4 = 0x510e527f\n",
    "h5 = 0x9b05688c\n",
    "h6 = 0x1f83d9ab\n",
    "h7 = 0x5be0cd19"
   ]
  },
  {
   "cell_type": "markdown",
   "metadata": {},
   "source": [
    "### SHA-256 algorithm\n",
    "SHA-256 may be used to hash a message, M, having a length of l bits, where 0<=l<=$2^{64}$. The algorithm uses\n",
    "\n",
    "1. A message schedule of sixty four 32-bit words\n",
    "2. Eight working variables of 32-bit each\n",
    "3. A hash value of eight 32-bit words\n",
    "\n",
    "The final value of SHA-256 is a 256-bit message digest.\n",
    "\n",
    "The words of the message schedule are labeled $W_{0}, W_{1},..,W_{63}$. The eight working variables are labeled a, b, c, d, e, f, g and h. The words of the hash value are labeled $H_{0}^{(i)}, H_{1}^{(i)},.., H_{7}^{(i)}$, which will hold the initial hash value, $H^{(0)}$, replaced by each successive intermediate hash value (after each message block is processed), $H^{(i)}$, and ending with the final hash value, $H^{(N)}$. SHA-256 also uses two temporary words, $T_{1}$ and $T_{2}$.\n",
    "\n",
    "#### Preprocessing\n",
    "1. Set initial hash value $H^{(0)}$\n",
    "2. Pad message (as above)\n",
    "\n",
    "#### Hash Computation\n",
    "The SHA-256 hash computation uses a set functions and constants. Additions (+) is performed modulo $2^{32}$\n",
    "\n",
    "Each message block, $M^{1}, M^{2},.., M^{N}$, is processed in order, using the following steps:\n",
    "![sha256 padding](figures/sha256algo1.png)\n",
    "![sha256 padding](figures/sha256algo2.png)\n",
    "\n",
    "### Handling bitstrings\n",
    "We will create a class that handles bitstrings. A bitstring will in this case be a list of integer bits (0/1) that we are able to perform all functions needed for SHA-256 on."
   ]
  },
  {
   "cell_type": "code",
   "execution_count": null,
   "metadata": {},
   "outputs": [],
   "source": []
  },
  {
   "cell_type": "code",
   "execution_count": 194,
   "metadata": {},
   "outputs": [],
   "source": [
    "class BitString:\n",
    "    \"\"\"Helper class for creation and manupilation of binary data\"\"\"\n",
    "    \n",
    "    def __init__(self, bits):\n",
    "        \"\"\"Initiate a BitString object\n",
    "        Args:\n",
    "            bits: list of integer (0/1) values \n",
    "        \"\"\"\n",
    "        self.bits = bits\n",
    "        self._validate_bits()\n",
    "        \n",
    "    @classmethod\n",
    "    def from_hex(cls, hexstring, n):\n",
    "        \"\"\"Initiate a BitString object from hex values\n",
    "        Args:\n",
    "            hexstring: integer in hex format\n",
    "            n: number of bits in BitString\n",
    "        \"\"\"\n",
    "        bits = bin(hexstring)[2:].rjust(n,'0')\n",
    "        bits = [int(i) for i in bits]\n",
    "        return cls(bits)\n",
    "    \n",
    "    @classmethod\n",
    "    def from_bitstring(cls, bitstring):\n",
    "        \"\"\"Initiate a BitString object from string of bits\n",
    "        Args:\n",
    "            bitstring: string of bits (0/1)\n",
    "        \"\"\"\n",
    "        bits = [int(i) for i in bitstring]\n",
    "        return cls(bits)\n",
    "    \n",
    "    @staticmethod\n",
    "    def to_bitstring(n, l):\n",
    "        \"\"\"Converts an integer (n) to a (l) length bitstring\"\"\"\n",
    "        return bin(n)[2:].rjust(l,'0')\n",
    "    \n",
    "    def copy(self):\n",
    "        return BitString(self.bits[:])\n",
    "    \n",
    "    def _validate_bits(self):\n",
    "        \"\"\"Ensure all bits are either 0 or 1\"\"\"\n",
    "        if any([bit not in [0,1] for bit in set(self.bits)]):\n",
    "            raise ValueError('Bits should be 0 or 1')\n",
    "        return\n",
    "    \n",
    "    def to_int(self):\n",
    "        \"\"\"Returns integer representation of self\"\"\"\n",
    "        bitstring = ''.join(str(i) for i in self.bits)\n",
    "        return int(bitstring, 2)\n",
    "    \n",
    "    def to_string(self):\n",
    "        \"\"\"Returns ASCII string representation of self\"\"\"\n",
    "        assert len(self.bits)%8 == 0\n",
    "        string = []\n",
    "        for i in range(0, len(self.bits), 8):\n",
    "            byte = self.bits[i:i+8]\n",
    "            byte = ''.join([str(i) for i in byte])\n",
    "            string.append(chr(int(byte,2)))\n",
    "        return ''.join(string)\n",
    "    \n",
    "    def to_hex(self):\n",
    "        \"\"\"Returns hex representation of self\"\"\"\n",
    "        return self.to_string().encode().hex()\n",
    "    \n",
    "    def add(self, bits):\n",
    "        \"\"\"Performs addition in modulo 2^32\n",
    "        Args:\n",
    "            bits (BitString): object with bits to be added with self\n",
    "        \"\"\"\n",
    "        if not isinstance(bits, BitString):\n",
    "            raise TypeError('Addition is only allowed with another BitString Object')\n",
    "        num = (self.to_int() + bits.to_int())%pow(2,32)\n",
    "        bitstring = self.to_bitstring(num, len(self.bits))\n",
    "        self.bits = [int(i) for i in bitstring]\n",
    "        self._validate_bits()\n",
    "        #sn = self.to_int()\n",
    "        #on = bits.to_int()\n",
    "        #n = (sn + on)%(2**len(self.bits))\n",
    "        #bitstring = self.to_bitstring(n, len(self.bits))\n",
    "        #return int_to_bitstring(n, len(self))\n",
    "        return BitString(self.bits)\n",
    "        \n",
    "    def extend(self, bits):\n",
    "        \"\"\"Appends new bits to itself\n",
    "        Args:\n",
    "            bits (BitString): object with bits to be appended to itself\n",
    "        \"\"\"\n",
    "        if not isinstance(bits, BitString):\n",
    "            raise TypeError('Extention is only allowed with another BitString Object')\n",
    "        self.bits.extend(bits.bits)\n",
    "        return BitString(self.bits[:])\n",
    "        \n",
    "    def unshift(self, bits):\n",
    "        \"\"\"Adds new bits to the beginning of self\n",
    "        Args: \n",
    "            bits (BitString): object with bits to be added to itself\n",
    "        \"\"\"\n",
    "        if not isinstance(bits, BitString):\n",
    "            raise TypeError('Extention is only allowed with another BitString Object')\n",
    "        self.bits = bits.bits + self.bits\n",
    "        return BitString(self.bits[:])\n",
    "        \n",
    "    def rotate_right(self, n):\n",
    "        \"\"\"Performs a circular right shift operation\n",
    "        Takes n last bits (right) and places them in front (left)\n",
    "        \n",
    "        Args:\n",
    "            n: number to be shifted\n",
    "        \"\"\"\n",
    "        self.bits = self.bits[-n:] + self.bits[:-n]\n",
    "        return BitString(self.bits[:])\n",
    "            \n",
    "            \n",
    "    def shift_right(self, n):\n",
    "        \"\"\"Shifts (self) bits n places to the right\n",
    "        Remaining bits to the left becomes zero\n",
    "        \"\"\"\n",
    "        left_pad = [0]*n\n",
    "        self.bits = left_pad + self.bits[:-n]\n",
    "        return BitString(self.bits[:])\n",
    "        \n",
    "    def bitwise_xor(self, bits):\n",
    "        \"\"\"Performs a bitwise XOR with another BitString\n",
    "        Args:\n",
    "            bits (BitString): object with bits to perform XOR with\n",
    "        \"\"\"\n",
    "        assert len(self.bits) == len(bits.bits)\n",
    "        if not isinstance(bits, BitString):\n",
    "            raise TypeError('XOR is only allowed with another BitString Object')\n",
    "        \n",
    "        self.bits = [0 if i==j else 1 for i,j in zip(self.bits, bits.bits)]\n",
    "        return BitString(self.bits[:])\n",
    "        \n",
    "    def bitwise_and(self, bits):\n",
    "        \"\"\"Performs a bitwise AND with another BitString\n",
    "        Args:\n",
    "            bits (BitString): object with bits to perform AND with\n",
    "        \"\"\"\n",
    "        if not isinstance(bits, BitString):\n",
    "            raise TypeError('Bitwise AND is only allowed with another BitString Object')\n",
    "        self.bits = [1 if i and j else 0 for i,j in zip(self.bits, bits.bits)]\n",
    "        return BitString(self.bits[:])\n",
    "        \n",
    "    def bitwise_not(self):\n",
    "        \"\"\"Performs a bitwise NOT with another BitString\"\"\"\n",
    "        self.bits = [1 if not bit else 0 for bit in self.bits]\n",
    "        return BitString(self.bits[:])\n",
    "        \n",
    "        "
   ]
  },
  {
   "cell_type": "code",
   "execution_count": 190,
   "metadata": {},
   "outputs": [
    {
     "name": "stdout",
     "output_type": "stream",
     "text": [
      "b: [1, 0, 1, 1, 1, 1, 0, 1]\n"
     ]
    },
    {
     "data": {
      "text/plain": [
       "[0, 0, 0, 1, 0, 1, 1, 1]"
      ]
     },
     "execution_count": 190,
     "metadata": {},
     "output_type": "execute_result"
    }
   ],
   "source": [
    "b = BitString.from_bitstring('10111101')\n",
    "print(f'b: {b.bits}')\n",
    "b.shift_right(3)\n",
    "b.bits"
   ]
  },
  {
   "cell_type": "code",
   "execution_count": 191,
   "metadata": {},
   "outputs": [
    {
     "name": "stdout",
     "output_type": "stream",
     "text": [
      "a: 1779033703\n",
      "b: 189\n",
      "[1, 0, 1, 1, 1, 1, 0, 1]\n",
      "[0, 1, 1, 0, 1, 0, 1, 0, 0, 0, 0, 0, 1, 0, 0, 1, 1, 1, 1, 0, 0, 1, 1, 0, 0, 1, 1, 0, 0, 1, 1, 1]\n",
      "[1, 0, 1, 1, 1, 1, 0, 1, 0, 1, 1, 0, 1, 0, 1, 0, 0, 0, 0, 0, 1, 0, 0, 1, 1, 1, 1, 0, 0, 1, 1, 0, 0, 1, 1, 0, 0, 1, 1, 1]\n"
     ]
    },
    {
     "data": {
      "text/plain": [
       "<__main__.BitString at 0x104a5a9e8>"
      ]
     },
     "execution_count": 191,
     "metadata": {},
     "output_type": "execute_result"
    }
   ],
   "source": [
    "a = BitString.from_hex(h0, 32)\n",
    "b = BitString.from_bitstring('10111101')\n",
    "print(f'a: {a.to_int()}\\nb: {b.to_int()}')\n",
    "print(b.bits)\n",
    "print(a.bits)\n",
    "a.unshift(b)\n",
    "print(a.bits)\n",
    "a.extend(b)"
   ]
  },
  {
   "cell_type": "code",
   "execution_count": 195,
   "metadata": {},
   "outputs": [
    {
     "name": "stdout",
     "output_type": "stream",
     "text": [
      "a: 189\n",
      "b: 189\n",
      "[1, 0, 1, 1, 1, 1, 0, 1]\n",
      "[1, 0, 1, 1, 1, 1, 0, 1]\n",
      "[1, 0, 1, 1, 1, 1, 0, 1, 0]\n",
      "378\n"
     ]
    }
   ],
   "source": [
    "a = BitString.from_bitstring('10111101')\n",
    "b = BitString.from_bitstring('10111101')\n",
    "print(f'a: {a.to_int()}\\nb: {b.to_int()}')\n",
    "print(a.bits)\n",
    "print(b.bits)\n",
    "a.add(b)\n",
    "print(a.bits)\n",
    "print(a.to_int())"
   ]
  },
  {
   "cell_type": "code",
   "execution_count": 33,
   "metadata": {},
   "outputs": [
    {
     "data": {
      "text/plain": [
       "<__main__.BitString at 0x10490bb70>"
      ]
     },
     "execution_count": 33,
     "metadata": {},
     "output_type": "execute_result"
    }
   ],
   "source": [
    "a.rotate_right(5).rotate_right(5)"
   ]
  },
  {
   "cell_type": "markdown",
   "metadata": {},
   "source": [
    "### Process the bitstring\n",
    "Convert the preprocessed message into a BitString and run the hashing algorithm"
   ]
  },
  {
   "cell_type": "code",
   "execution_count": 122,
   "metadata": {},
   "outputs": [],
   "source": [
    "h0 = 0x6a09e667\n",
    "h1 = 0xbb67ae85\n",
    "h2 = 0x3c6ef372\n",
    "h3 = 0xa54ff53a\n",
    "h4 = 0x510e527f\n",
    "h5 = 0x9b05688c\n",
    "h6 = 0x1f83d9ab\n",
    "h7 = 0x5be0cd19\n",
    "H = [h0, h1, h2, h3, h4, h5, h6, h7]"
   ]
  },
  {
   "cell_type": "code",
   "execution_count": 196,
   "metadata": {},
   "outputs": [],
   "source": [
    "def sha256(message, H=H, K=K):\n",
    "    bitstring = pad_message(message)\n",
    "    chunks = [] # bitstring chunks of 512 bits\n",
    "    for i in range(0, len(bitstring), 512):\n",
    "        chunks.append(bitstring[i:i+512])\n",
    "    # Initialize hash values as BitString objects\n",
    "    # They are originally 32 bit hex values\n",
    "    h0,h1,h2,h3,h4,h5,h6,h7 = list(map(lambda x: BitString.from_hex(x, 32), H))\n",
    "    # Initialize round constants as BitString objects\n",
    "    K = [BitString.from_hex(k, 32) for k in K]\n",
    "    for chunk in chunks: # chunk is bitstring of size 512\n",
    "        # Run 64 rounds in compression function\n",
    "        # We need W(i) and K(i) for i=1,..,64\n",
    "        # Break the 16 first rounds into 32-bit blocks from the chunk\n",
    "        M = parse_block(chunk) \n",
    "        # The 48 next rounds will be computed by\n",
    "        # W(i) = Wⁱ⁻¹⁶ + σ⁰ + Wⁱ⁻⁷ + σ¹ where,\n",
    "        # σ⁰ = (Wⁱ⁻¹⁵ ROTR⁷(x)) XOR (Wⁱ⁻¹⁵ ROTR¹⁸(x)) XOR (Wⁱ⁻¹⁵ SHR³(x))\n",
    "        # σ¹ = (Wⁱ⁻² ROTR¹⁷(x)) XOR (Wⁱ⁻² ROTR¹⁹(x)) XOR (Wⁱ⁻² SHR¹⁰(x))\n",
    "        # ROTRⁿ(x) = Circular right rotation of 'x' by 'n' bits\n",
    "        # SHRⁿ(x)  = Circular right shift of 'x' by 'n' bits\n",
    "        W = M + ['0'.rjust(32,'0')]*48\n",
    "        W = [BitString.from_bitstring(w) for w in W]\n",
    "        for i in range(16, 64):\n",
    "            _W = [w.copy() for w in W]\n",
    "            sigma1 = _W[i-15].rotate_right(7).bitwise_xor(_W[i-15].rotate_right(18))\\\n",
    "            .bitwise_xor(_W[i-15].shift_right(3))\n",
    "            sigma2 = _W[i-2].rotate_right(17).bitwise_xor(_W[i-2].rotate_right(19))\\\n",
    "            .bitwise_xor(_W[i-2].shift_right(10))\n",
    "            W[i] = _W[i-16].add(sigma1).add(_W[i-7]).add(sigma1)\n",
    "        # Initialize eight working variables\n",
    "        a,b,c,d,e,f,g,h = h0,h1,h2,h3,h4,h5,h6,h7\n",
    "        # Compression function\n",
    "        \n",
    "        for i in range(64):\n",
    "            _e = e.copy()\n",
    "            _a = a.copy()\n",
    "            _c = c.copy()\n",
    "            _f = f.copy()\n",
    "            _h = h.copy()\n",
    "            _g = g.copy()\n",
    "            _b = b.copy()\n",
    "            sum_e = _e.rotate_right(6).bitwise_xor(_e.rotate_right(11))\\\n",
    "            .bitwise_xor(_e.rotate_right(25))\n",
    "            sum_a = _a.rotate_right(2).bitwise_xor(_a.rotate_right(13))\\\n",
    "            .bitwise_xor(_a.rotate_right(22))\n",
    "            Ch = _e.bitwise_and(_f).bitwise_xor(_e.bitwise_not().bitwise_and(_g))\n",
    "            maj = _a.bitwise_and(_b).bitwise_xor(_a.bitwise_and(_c))\\\n",
    "            .bitwise_xor(_b.bitwise_and(_c))\n",
    "            T1 =  _h.add(sum_e).add(Ch).add(K[i]).add(W[i])\n",
    "            T2 = sum_e.add(maj)\n",
    "            h,g,f,e,d,c,b,a = g,f,e,d.add(T1),c,b,a,T1.add(T2)\n",
    "        \n",
    "        # Add compressed chunk to current hash val\n",
    "        for h, char in zip([h0,h1,h2,h3,h4,h5,h6,h7],[a,b,c,d,e,f,g,h]):\n",
    "            char = BitString.from_bitstring(char.bits)\n",
    "        # Produce final hash val\n",
    "        digest = h0.extend(h1).extend(h2).extend(h3).extend(h4)\\\n",
    "                .extend(h5).extend(h6).extend(h7)\n",
    "        return digest"
   ]
  },
  {
   "cell_type": "code",
   "execution_count": 200,
   "metadata": {},
   "outputs": [
    {
     "data": {
      "text/plain": [
       "'c3903e4019c3b2c3b74c4bc2b80ec293c3a9c290550174510e527fc29b0568c28c1fc283c399c2ab5bc3a0c38d19'"
      ]
     },
     "execution_count": 200,
     "metadata": {},
     "output_type": "execute_result"
    }
   ],
   "source": [
    "digest = sha256('abc')\n",
    "digest.to_hex()"
   ]
  },
  {
   "cell_type": "code",
   "execution_count": 148,
   "metadata": {},
   "outputs": [],
   "source": [
    "import hashlib"
   ]
  },
  {
   "cell_type": "code",
   "execution_count": 173,
   "metadata": {},
   "outputs": [
    {
     "data": {
      "text/plain": [
       "'ba7816bf8f01cfea414140de5dae2223b00361a396177a9cb410ff61f20015ad'"
      ]
     },
     "execution_count": 173,
     "metadata": {},
     "output_type": "execute_result"
    }
   ],
   "source": [
    "true = hashlib.sha256('abc'.encode()).hexdigest()\n",
    "true"
   ]
  },
  {
   "cell_type": "code",
   "execution_count": 174,
   "metadata": {},
   "outputs": [
    {
     "data": {
      "text/plain": [
       "64"
      ]
     },
     "execution_count": 174,
     "metadata": {},
     "output_type": "execute_result"
    }
   ],
   "source": [
    "len(true)"
   ]
  },
  {
   "cell_type": "code",
   "execution_count": null,
   "metadata": {},
   "outputs": [],
   "source": []
  }
 ],
 "metadata": {
  "kernelspec": {
   "display_name": "Python 3",
   "language": "python",
   "name": "python3"
  },
  "language_info": {
   "codemirror_mode": {
    "name": "ipython",
    "version": 3
   },
   "file_extension": ".py",
   "mimetype": "text/x-python",
   "name": "python",
   "nbconvert_exporter": "python",
   "pygments_lexer": "ipython3",
   "version": "3.7.3"
  }
 },
 "nbformat": 4,
 "nbformat_minor": 2
}
